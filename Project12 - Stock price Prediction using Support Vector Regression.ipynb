{
 "cells": [
  {
   "cell_type": "markdown",
   "id": "414b06ac",
   "metadata": {},
   "source": [
    "# Loading Libraries"
   ]
  },
  {
   "cell_type": "code",
   "execution_count": 1,
   "id": "af06605a",
   "metadata": {},
   "outputs": [],
   "source": [
    "import numpy as np"
   ]
  },
  {
   "cell_type": "code",
   "execution_count": 2,
   "id": "9fdefc77",
   "metadata": {},
   "outputs": [],
   "source": [
    "import pandas as pd"
   ]
  },
  {
   "cell_type": "code",
   "execution_count": 3,
   "id": "abe92dfb",
   "metadata": {},
   "outputs": [],
   "source": [
    "import matplotlib.pyplot as plt"
   ]
  },
  {
   "cell_type": "code",
   "execution_count": 4,
   "id": "9f9335c8",
   "metadata": {},
   "outputs": [],
   "source": [
    "import seaborn as sns"
   ]
  },
  {
   "cell_type": "markdown",
   "id": "2a504c65",
   "metadata": {},
   "source": [
    "# Loading Dataset"
   ]
  },
  {
   "cell_type": "code",
   "execution_count": 5,
   "id": "4c8cb9b7",
   "metadata": {},
   "outputs": [],
   "source": [
    "dataset = pd.read_csv(\"D:/Pantech Solutions/14_StockPredictionusing_SVMREGRESSION/data.csv\")"
   ]
  },
  {
   "cell_type": "markdown",
   "id": "db35c972",
   "metadata": {},
   "source": [
    "# Summarize Dataset"
   ]
  },
  {
   "cell_type": "code",
   "execution_count": 6,
   "id": "7d95c4d2",
   "metadata": {},
   "outputs": [
    {
     "data": {
      "text/html": [
       "<div>\n",
       "<style scoped>\n",
       "    .dataframe tbody tr th:only-of-type {\n",
       "        vertical-align: middle;\n",
       "    }\n",
       "\n",
       "    .dataframe tbody tr th {\n",
       "        vertical-align: top;\n",
       "    }\n",
       "\n",
       "    .dataframe thead th {\n",
       "        text-align: right;\n",
       "    }\n",
       "</style>\n",
       "<table border=\"1\" class=\"dataframe\">\n",
       "  <thead>\n",
       "    <tr style=\"text-align: right;\">\n",
       "      <th></th>\n",
       "      <th>x</th>\n",
       "      <th>y</th>\n",
       "    </tr>\n",
       "  </thead>\n",
       "  <tbody>\n",
       "    <tr>\n",
       "      <th>0</th>\n",
       "      <td>168.181818</td>\n",
       "      <td>160.840244</td>\n",
       "    </tr>\n",
       "    <tr>\n",
       "      <th>1</th>\n",
       "      <td>187.878788</td>\n",
       "      <td>159.413657</td>\n",
       "    </tr>\n",
       "    <tr>\n",
       "      <th>2</th>\n",
       "      <td>207.575758</td>\n",
       "      <td>157.136809</td>\n",
       "    </tr>\n",
       "    <tr>\n",
       "      <th>3</th>\n",
       "      <td>227.272727</td>\n",
       "      <td>159.357847</td>\n",
       "    </tr>\n",
       "    <tr>\n",
       "      <th>4</th>\n",
       "      <td>246.969697</td>\n",
       "      <td>157.542862</td>\n",
       "    </tr>\n",
       "  </tbody>\n",
       "</table>\n",
       "</div>"
      ],
      "text/plain": [
       "            x           y\n",
       "0  168.181818  160.840244\n",
       "1  187.878788  159.413657\n",
       "2  207.575758  157.136809\n",
       "3  227.272727  159.357847\n",
       "4  246.969697  157.542862"
      ]
     },
     "execution_count": 6,
     "metadata": {},
     "output_type": "execute_result"
    }
   ],
   "source": [
    "dataset.head()"
   ]
  },
  {
   "cell_type": "code",
   "execution_count": 7,
   "id": "7a316c9c",
   "metadata": {},
   "outputs": [
    {
     "data": {
      "text/plain": [
       "Index(['x', 'y'], dtype='object')"
      ]
     },
     "execution_count": 7,
     "metadata": {},
     "output_type": "execute_result"
    }
   ],
   "source": [
    "dataset.columns"
   ]
  },
  {
   "cell_type": "code",
   "execution_count": 8,
   "id": "c5faa18f",
   "metadata": {},
   "outputs": [
    {
     "data": {
      "text/plain": [
       "(94, 2)"
      ]
     },
     "execution_count": 8,
     "metadata": {},
     "output_type": "execute_result"
    }
   ],
   "source": [
    "dataset.shape"
   ]
  },
  {
   "cell_type": "code",
   "execution_count": 9,
   "id": "7b9097b3",
   "metadata": {},
   "outputs": [
    {
     "data": {
      "text/plain": [
       "188"
      ]
     },
     "execution_count": 9,
     "metadata": {},
     "output_type": "execute_result"
    }
   ],
   "source": [
    "dataset.size"
   ]
  },
  {
   "cell_type": "code",
   "execution_count": 10,
   "id": "05596f89",
   "metadata": {},
   "outputs": [
    {
     "data": {
      "text/plain": [
       "2"
      ]
     },
     "execution_count": 10,
     "metadata": {},
     "output_type": "execute_result"
    }
   ],
   "source": [
    "dataset.ndim"
   ]
  },
  {
   "cell_type": "markdown",
   "id": "72068427",
   "metadata": {},
   "source": [
    "# Segregate Dataset into 2 Parts - Independent and Dependent Variable"
   ]
  },
  {
   "cell_type": "code",
   "execution_count": 11,
   "id": "470c5bf2",
   "metadata": {},
   "outputs": [],
   "source": [
    "x = dataset.iloc[:,:-1].values"
   ]
  },
  {
   "cell_type": "code",
   "execution_count": 12,
   "id": "f24efda7",
   "metadata": {},
   "outputs": [
    {
     "data": {
      "text/plain": [
       "array([[ 168.18181818],\n",
       "       [ 187.87878788],\n",
       "       [ 207.57575758],\n",
       "       [ 227.27272727],\n",
       "       [ 246.96969697],\n",
       "       [ 266.66666667],\n",
       "       [ 286.36363636],\n",
       "       [ 306.06060606],\n",
       "       [ 325.75757576],\n",
       "       [ 345.45454545],\n",
       "       [ 365.15151515],\n",
       "       [ 384.84848485],\n",
       "       [ 404.54545455],\n",
       "       [ 424.24242424],\n",
       "       [ 443.93939394],\n",
       "       [ 463.63636364],\n",
       "       [ 483.33333333],\n",
       "       [ 503.03030303],\n",
       "       [ 522.72727273],\n",
       "       [ 542.42424242],\n",
       "       [ 562.12121212],\n",
       "       [ 581.81818182],\n",
       "       [ 601.51515152],\n",
       "       [ 621.21212121],\n",
       "       [ 640.90909091],\n",
       "       [ 660.60606061],\n",
       "       [ 680.3030303 ],\n",
       "       [ 700.        ],\n",
       "       [ 719.6969697 ],\n",
       "       [ 739.39393939],\n",
       "       [ 759.09090909],\n",
       "       [ 778.78787879],\n",
       "       [ 798.48484848],\n",
       "       [ 818.18181818],\n",
       "       [ 837.87878788],\n",
       "       [ 857.57575758],\n",
       "       [ 877.27272727],\n",
       "       [ 896.96969697],\n",
       "       [ 916.66666667],\n",
       "       [ 936.36363636],\n",
       "       [ 956.06060606],\n",
       "       [ 975.75757576],\n",
       "       [ 995.45454545],\n",
       "       [1015.15151515],\n",
       "       [1034.84848485],\n",
       "       [1054.54545455],\n",
       "       [1074.24242424],\n",
       "       [1093.93939394],\n",
       "       [1113.63636364],\n",
       "       [1133.33333333],\n",
       "       [1153.03030303],\n",
       "       [1172.72727273],\n",
       "       [1192.42424242],\n",
       "       [1212.12121212],\n",
       "       [1231.81818182],\n",
       "       [1251.51515152],\n",
       "       [1271.21212121],\n",
       "       [1290.90909091],\n",
       "       [1310.60606061],\n",
       "       [1330.3030303 ],\n",
       "       [1350.        ],\n",
       "       [1369.6969697 ],\n",
       "       [1389.39393939],\n",
       "       [1409.09090909],\n",
       "       [1428.78787879],\n",
       "       [1448.48484848],\n",
       "       [1468.18181818],\n",
       "       [1487.87878788],\n",
       "       [1507.57575758],\n",
       "       [1527.27272727],\n",
       "       [1546.96969697],\n",
       "       [1566.66666667],\n",
       "       [1586.36363636],\n",
       "       [1606.06060606],\n",
       "       [1625.75757576],\n",
       "       [1645.45454545],\n",
       "       [1665.15151515],\n",
       "       [1684.84848485],\n",
       "       [1704.54545455],\n",
       "       [1724.24242424],\n",
       "       [1743.93939394],\n",
       "       [1763.63636364],\n",
       "       [1783.33333333],\n",
       "       [1803.03030303],\n",
       "       [1822.72727273],\n",
       "       [1842.42424242],\n",
       "       [1862.12121212],\n",
       "       [1881.81818182],\n",
       "       [1901.51515152],\n",
       "       [1921.21212121],\n",
       "       [1940.90909091],\n",
       "       [1960.60606061],\n",
       "       [1980.3030303 ],\n",
       "       [2000.        ]])"
      ]
     },
     "execution_count": 12,
     "metadata": {},
     "output_type": "execute_result"
    }
   ],
   "source": [
    "x"
   ]
  },
  {
   "cell_type": "code",
   "execution_count": 13,
   "id": "3e3ed119",
   "metadata": {},
   "outputs": [],
   "source": [
    "y = dataset.iloc[:,-1].values"
   ]
  },
  {
   "cell_type": "code",
   "execution_count": 14,
   "id": "04f8ea5a",
   "metadata": {},
   "outputs": [
    {
     "data": {
      "text/plain": [
       "array([160.84024381, 159.41365734, 157.1368088 , 159.35784736,\n",
       "       157.54286158, 157.73520716, 159.34756091, 155.23404557,\n",
       "       155.80774009, 158.3299704 , 157.62585291, 160.47697951,\n",
       "       158.22940639, 157.41781684, 163.37069148, 160.18481104,\n",
       "       160.96838974, 158.18080666, 160.13850728, 161.6460876 ,\n",
       "       159.31922497, 162.56957785, 160.81387414, 161.62873371,\n",
       "       161.20567768, 166.31061698, 162.77603585, 160.88457814,\n",
       "       164.84205952, 160.95225209, 164.00863628, 159.86853854,\n",
       "       161.32847639, 164.57554065, 165.85572104, 164.91849414,\n",
       "       164.54143071, 164.36748958, 162.20962269, 163.92394795,\n",
       "       164.63932852, 167.87182021, 166.64178203, 162.62543484,\n",
       "       166.99665279, 165.77528998, 165.38858024, 168.16274652,\n",
       "       169.19836268, 169.19589357, 165.85186798, 167.10884798,\n",
       "       168.58676929, 170.07230238, 167.35983334, 168.14383356,\n",
       "       166.49945126, 166.51667766, 170.73111225, 172.01551036,\n",
       "       169.35597976, 171.70403549, 170.61721144, 168.80066958,\n",
       "       171.01067   , 173.56092162, 170.6101661 , 174.00807519,\n",
       "       165.83626737, 172.91653228, 171.64379111, 171.06865197,\n",
       "       172.04715792, 168.08546823, 171.81823198, 173.1687706 ,\n",
       "       175.60730324, 171.81194441, 171.42846734, 172.23891016,\n",
       "       175.27019817, 174.29386586, 172.77381293, 175.0568379 ,\n",
       "       174.42142783, 176.36153241, 173.21710593, 174.16285752,\n",
       "       174.23093521, 172.28509132, 176.00133146, 176.12817115,\n",
       "       175.81325722, 175.53082573])"
      ]
     },
     "execution_count": 14,
     "metadata": {},
     "output_type": "execute_result"
    }
   ],
   "source": [
    "y"
   ]
  },
  {
   "cell_type": "markdown",
   "id": "47240463",
   "metadata": {},
   "source": [
    "# Splitting Dataset into Training and Testing"
   ]
  },
  {
   "cell_type": "code",
   "execution_count": 15,
   "id": "d6de05c9",
   "metadata": {},
   "outputs": [],
   "source": [
    "from sklearn.model_selection import train_test_split"
   ]
  },
  {
   "cell_type": "code",
   "execution_count": 16,
   "id": "a3487e7d",
   "metadata": {},
   "outputs": [],
   "source": [
    "x_train, x_test, y_train, y_test = train_test_split(x, y, test_size=0.20, random_state=0, shuffle=True)"
   ]
  },
  {
   "cell_type": "code",
   "execution_count": 17,
   "id": "049c6c28",
   "metadata": {},
   "outputs": [
    {
     "name": "stdout",
     "output_type": "stream",
     "text": [
      "Count of x_train : 75\t\tCount of y_train : 75\n",
      "Count of x_test  : 19\t\tCount of y_test  : 19\n"
     ]
    }
   ],
   "source": [
    "print(f\"Count of x_train : {len(x_train)}\\t\\tCount of y_train : {len(y_train)}\")\n",
    "print(f\"Count of x_test  : {len(x_test)}\\t\\tCount of y_test  : {len(y_test)}\")"
   ]
  },
  {
   "cell_type": "markdown",
   "id": "534ce738",
   "metadata": {},
   "source": [
    "# Training using Support Vector Regression"
   ]
  },
  {
   "cell_type": "code",
   "execution_count": 18,
   "id": "e9505847",
   "metadata": {},
   "outputs": [],
   "source": [
    "from sklearn.svm import SVR"
   ]
  },
  {
   "cell_type": "code",
   "execution_count": 19,
   "id": "11c19b58",
   "metadata": {},
   "outputs": [],
   "source": [
    "model = SVR(kernel=\"linear\")"
   ]
  },
  {
   "cell_type": "code",
   "execution_count": 20,
   "id": "b0700492",
   "metadata": {},
   "outputs": [
    {
     "data": {
      "text/plain": [
       "SVR(kernel='linear')"
      ]
     },
     "execution_count": 20,
     "metadata": {},
     "output_type": "execute_result"
    }
   ],
   "source": [
    "model.fit(x_train, y_train)"
   ]
  },
  {
   "cell_type": "markdown",
   "id": "4500875d",
   "metadata": {},
   "source": [
    "# Testing for one Sample Value"
   ]
  },
  {
   "cell_type": "code",
   "execution_count": 21,
   "id": "442e6dfc",
   "metadata": {},
   "outputs": [
    {
     "name": "stdout",
     "output_type": "stream",
     "text": [
      "[173.76318343]\n"
     ]
    }
   ],
   "source": [
    "sample_value = 1763\n",
    "\n",
    "newSample_value = [[sample_value]]\n",
    "result = model.predict(newSample_value)\n",
    "print(result)"
   ]
  },
  {
   "cell_type": "markdown",
   "id": "c7630f5e",
   "metadata": {},
   "source": [
    "# Testing for all Test Data"
   ]
  },
  {
   "cell_type": "code",
   "execution_count": 22,
   "id": "a01dd607",
   "metadata": {},
   "outputs": [],
   "source": [
    "y_prediction = model.predict(x_test)"
   ]
  },
  {
   "cell_type": "code",
   "execution_count": 23,
   "id": "cb571a10",
   "metadata": {},
   "outputs": [
    {
     "data": {
      "text/plain": [
       "array([[157.1368088 , 157.25872855],\n",
       "       [164.00863628, 163.11080201],\n",
       "       [166.49945126, 168.54487023],\n",
       "       [160.96838974, 160.18476528],\n",
       "       [157.41781684, 159.55775741],\n",
       "       [171.70403549, 169.58988335],\n",
       "       [170.61721144, 169.79888598],\n",
       "       [172.23891016, 173.35193058],\n",
       "       [164.57554065, 163.73780988],\n",
       "       [171.42846734, 173.14292795],\n",
       "       [175.60730324, 172.72492271],\n",
       "       [155.23404557, 158.30374167],\n",
       "       [167.10884798, 167.49985711],\n",
       "       [172.28509132, 175.44195681],\n",
       "       [175.53082573, 176.27796731],\n",
       "       [169.35597976, 169.38088073],\n",
       "       [155.80774009, 158.51274429],\n",
       "       [160.81387414, 161.43878103],\n",
       "       [168.08546823, 172.09791483]])"
      ]
     },
     "execution_count": 23,
     "metadata": {},
     "output_type": "execute_result"
    }
   ],
   "source": [
    "np.concatenate((y_test.reshape(len(y_test),1), y_prediction.reshape(len(y_prediction),1)),1)"
   ]
  },
  {
   "cell_type": "markdown",
   "id": "ac6f46d7",
   "metadata": {},
   "source": [
    "# Evaluating Model - Mean Squared Error, r2 score"
   ]
  },
  {
   "cell_type": "code",
   "execution_count": 24,
   "id": "dfcbfe05",
   "metadata": {},
   "outputs": [],
   "source": [
    "from sklearn.metrics import r2_score"
   ]
  },
  {
   "cell_type": "code",
   "execution_count": 25,
   "id": "3880dc31",
   "metadata": {},
   "outputs": [],
   "source": [
    "from sklearn.metrics import mean_squared_error"
   ]
  },
  {
   "cell_type": "code",
   "execution_count": 26,
   "id": "22bd08e7",
   "metadata": {},
   "outputs": [
    {
     "name": "stdout",
     "output_type": "stream",
     "text": [
      "Mean Squared Error : 1.9525066893025074\n",
      "r2 Score           : 90.85290859409976\n"
     ]
    }
   ],
   "source": [
    "print(f\"Mean Squared Error : {np.sqrt(mean_squared_error(y_test, y_prediction))}\")\n",
    "print(f\"r2 Score           : {r2_score(y_test, y_prediction)*100}\")"
   ]
  }
 ],
 "metadata": {
  "kernelspec": {
   "display_name": "Python 3",
   "language": "python",
   "name": "python3"
  },
  "language_info": {
   "codemirror_mode": {
    "name": "ipython",
    "version": 3
   },
   "file_extension": ".py",
   "mimetype": "text/x-python",
   "name": "python",
   "nbconvert_exporter": "python",
   "pygments_lexer": "ipython3",
   "version": "3.8.8"
  },
  "widgets": {
   "application/vnd.jupyter.widget-state+json": {
    "state": {},
    "version_major": 2,
    "version_minor": 0
   }
  }
 },
 "nbformat": 4,
 "nbformat_minor": 5
}
